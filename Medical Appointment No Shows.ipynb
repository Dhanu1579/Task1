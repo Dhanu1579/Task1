{
 "cells": [
  {
   "cell_type": "code",
   "execution_count": 20,
   "id": "c40e4829-9007-45ee-a974-e843fdcd6441",
   "metadata": {},
   "outputs": [],
   "source": [
    "import pandas as pd"
   ]
  },
  {
   "cell_type": "code",
   "execution_count": 21,
   "id": "158cb01d-137e-4b5c-89b8-f54f048d196a",
   "metadata": {},
   "outputs": [],
   "source": [
    "df = pd.read_csv('/Users/dhanushsiddharthapinjerla/Desktop/datasets/Medical Appointment No Shows.csv')"
   ]
  },
  {
   "cell_type": "code",
   "execution_count": 22,
   "id": "53ae8230-b91d-4d5b-8935-7daafc3e1ac3",
   "metadata": {},
   "outputs": [
    {
     "name": "stdout",
     "output_type": "stream",
     "text": [
      "🔹 Original Shape: (110527, 14)\n"
     ]
    }
   ],
   "source": [
    "print(\"🔹 Original Shape:\", df.shape)"
   ]
  },
  {
   "cell_type": "code",
   "execution_count": 23,
   "id": "8f0a6bf3-ab7f-427f-939b-3d60f2f2482c",
   "metadata": {},
   "outputs": [],
   "source": [
    "df.columns = df.columns.str.lower().str.replace(\" \", \"_\")"
   ]
  },
  {
   "cell_type": "code",
   "execution_count": 24,
   "id": "7e8d7071-10b3-41bc-9557-6aff4a6b7267",
   "metadata": {},
   "outputs": [],
   "source": [
    "df = df.drop_duplicates()"
   ]
  },
  {
   "cell_type": "code",
   "execution_count": 25,
   "id": "51332640-faf8-4adb-bf48-429bfb66a0ad",
   "metadata": {},
   "outputs": [],
   "source": [
    "if \"scheduledday\" in df.columns:\n",
    "    df[\"scheduledday\"] = pd.to_datetime(df[\"scheduledday\"])\n",
    "\n",
    "if \"appointmentday\" in df.columns:\n",
    "    df[\"appointmentday\"] = pd.to_datetime(df[\"appointmentday\"])"
   ]
  },
  {
   "cell_type": "code",
   "execution_count": 26,
   "id": "cab34914-02bf-4995-9aae-41c823e7aee0",
   "metadata": {},
   "outputs": [],
   "source": [
    "if \"age\" in df.columns:\n",
    "    df = df[df[\"age\"] > 0]"
   ]
  },
  {
   "cell_type": "code",
   "execution_count": 27,
   "id": "0cc5e2d2-ecc5-4b1e-8946-204b854cecdc",
   "metadata": {},
   "outputs": [],
   "source": [
    "if \"gender\" in df.columns:\n",
    "    df[\"gender\"] = df[\"gender\"].str.upper().map({\"M\": \"male\", \"F\": \"female\"})\n"
   ]
  },
  {
   "cell_type": "code",
   "execution_count": 28,
   "id": "5c2699b2-ff06-487a-9430-c755fa719c89",
   "metadata": {},
   "outputs": [],
   "source": [
    "if \"no-show\" in df.columns:\n",
    "    df[\"no_show\"] = df[\"no-show\"].map({\"Yes\": 1, \"No\": 0})\n",
    "    df = df.drop(columns=[\"no-show\"])"
   ]
  },
  {
   "cell_type": "code",
   "execution_count": 29,
   "id": "d46fc491-90fc-4967-81a2-2c1d8e8ad0af",
   "metadata": {},
   "outputs": [],
   "source": [
    "df.to_csv(\"Medical Appointment No Shows.csv\", index=False)"
   ]
  },
  {
   "cell_type": "code",
   "execution_count": 30,
   "id": "a38d6b17-a14d-4925-97d0-f86c34300ebf",
   "metadata": {},
   "outputs": [
    {
     "name": "stdout",
     "output_type": "stream",
     "text": [
      "✅ Cleaned dataset saved as Medical Appointment No Shows.csv\n",
      "🔹 Cleaned Shape: (106987, 14)\n",
      "🔹 Columns: ['patientid', 'appointmentid', 'gender', 'scheduledday', 'appointmentday', 'age', 'neighbourhood', 'scholarship', 'hipertension', 'diabetes', 'alcoholism', 'handcap', 'sms_received', 'no_show']\n"
     ]
    }
   ],
   "source": [
    "print(\"✅ Cleaned dataset saved as Medical Appointment No Shows.csv\")\n",
    "print(\"🔹 Cleaned Shape:\", df.shape)\n",
    "print(\"🔹 Columns:\", df.columns.tolist())"
   ]
  },
  {
   "cell_type": "code",
   "execution_count": null,
   "id": "c6f0974e-9e78-4e6f-baf0-d22b8c7a38a4",
   "metadata": {},
   "outputs": [],
   "source": []
  }
 ],
 "metadata": {
  "kernelspec": {
   "display_name": "Python [conda env:base] *",
   "language": "python",
   "name": "conda-base-py"
  },
  "language_info": {
   "codemirror_mode": {
    "name": "ipython",
    "version": 3
   },
   "file_extension": ".py",
   "mimetype": "text/x-python",
   "name": "python",
   "nbconvert_exporter": "python",
   "pygments_lexer": "ipython3",
   "version": "3.13.5"
  }
 },
 "nbformat": 4,
 "nbformat_minor": 5
}
