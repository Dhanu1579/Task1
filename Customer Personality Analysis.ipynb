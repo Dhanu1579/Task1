{
 "cells": [
  {
   "cell_type": "code",
   "execution_count": 14,
   "id": "853832b7-4c3a-4655-bd97-4758519be819",
   "metadata": {},
   "outputs": [],
   "source": [
    "import pandas as pd"
   ]
  },
  {
   "cell_type": "code",
   "execution_count": 28,
   "id": "e4742503-3e86-41fe-ae3c-2370c0c59c75",
   "metadata": {},
   "outputs": [
    {
     "name": "stdout",
     "output_type": "stream",
     "text": [
      "🔹 Cleaned Columns: ['id\\tyear_birth\\teducation\\tmarital_status\\tincome\\tkidhome\\tteenhome\\tdt_customer\\trecency\\tmntwines\\tmntfruits\\tmntmeatproducts\\tmntfishproducts\\tmntsweetproducts\\tmntgoldprods\\tnumdealspurchases\\tnumwebpurchases\\tnumcatalogpurchases\\tnumstorepurchases\\tnumwebvisitsmonth\\tacceptedcmp3\\tacceptedcmp4\\tacceptedcmp5\\tacceptedcmp1\\tacceptedcmp2\\tcomplain\\tz_costcontact\\tz_revenue\\tresponse']\n"
     ]
    }
   ],
   "source": [
    "df = pd.read_csv(\"/Users/dhanushsiddharthapinjerla/Desktop/datasets/marketing_campaign.csv\")\n",
    "df.columns = df.columns.str.lower().str.replace(\" \", \"_\")\n",
    "print(\"🔹 Cleaned Columns:\", df.columns.tolist())"
   ]
  },
  {
   "cell_type": "code",
   "execution_count": 29,
   "id": "e00eadfc-6507-43ab-aac2-854d6d1ca9e4",
   "metadata": {},
   "outputs": [
    {
     "name": "stdout",
     "output_type": "stream",
     "text": [
      "🔹 Original Shape: (2240, 1)\n"
     ]
    }
   ],
   "source": [
    "print(\"🔹 Original Shape:\", df.shape)"
   ]
  },
  {
   "cell_type": "code",
   "execution_count": 30,
   "id": "1d70d88d-6e1e-4e09-a331-c58af75f5cc8",
   "metadata": {},
   "outputs": [],
   "source": [
    "df = df.drop_duplicates()"
   ]
  },
  {
   "cell_type": "code",
   "execution_count": 31,
   "id": "8b191d7b-84ea-4412-a63b-9d954b8f93e8",
   "metadata": {},
   "outputs": [],
   "source": [
    "if \"income\" in df.columns:\n",
    "    df = df.dropna(subset=[\"income\"])"
   ]
  },
  {
   "cell_type": "code",
   "execution_count": 32,
   "id": "6866c1f0-4c7a-4d40-bf7c-b70ec6cd017a",
   "metadata": {},
   "outputs": [],
   "source": [
    "df = df.fillna(df.mode().iloc[0])"
   ]
  },
  {
   "cell_type": "code",
   "execution_count": 33,
   "id": "20c3dc15-57fc-46f7-b0c6-fdc6a2a8b37f",
   "metadata": {},
   "outputs": [],
   "source": [
    "if \"income\" in df.columns:\n",
    "    q_low = df[\"income\"].quantile(0.01)\n",
    "    q_high = df[\"income\"].quantile(0.99)\n",
    "    df = df[(df[\"income\"] >= q_low) & (df[\"income\"] <= q_high)]"
   ]
  },
  {
   "cell_type": "code",
   "execution_count": 34,
   "id": "68a8a542-9728-4050-9924-d50d97667d12",
   "metadata": {},
   "outputs": [],
   "source": [
    "if \"year_birth\" in df.columns:\n",
    "    df[\"age\"] = 2025 - df[\"year_birth\"]\n",
    "\n",
    "if \"kidhome\" in df.columns and \"teenhome\" in df.columns:\n",
    "    df[\"children\"] = df[\"kidhome\"] + df[\"teenhome\"]\n",
    "\n",
    "purchase_cols = [\"mntwines\", \"mntfruits\", \"mntmeatproducts\",\n",
    "                 \"mntfishproducts\", \"mntsweetproducts\", \"mntgoldprods\"]\n",
    "\n",
    "if all(col in df.columns for col in purchase_cols):\n",
    "    df[\"total_spent\"] = df[purchase_cols].sum(axis=1)"
   ]
  },
  {
   "cell_type": "code",
   "execution_count": 35,
   "id": "efe94ebb-5a8b-4c69-84ce-0fe0800b211f",
   "metadata": {},
   "outputs": [],
   "source": [
    "df.to_csv(\"Customer Personality Analysis.csv\", index=False)"
   ]
  },
  {
   "cell_type": "code",
   "execution_count": 37,
   "id": "3d0ecc3a-2105-4dd9-8b82-f08186c99f20",
   "metadata": {},
   "outputs": [
    {
     "name": "stdout",
     "output_type": "stream",
     "text": [
      "✅ Cleaned dataset saved as Customer Personality Analysis.csv\n",
      "🔹 Cleaned Shape: (2240, 1)\n",
      "🔹 Columns: ['id\\tyear_birth\\teducation\\tmarital_status\\tincome\\tkidhome\\tteenhome\\tdt_customer\\trecency\\tmntwines\\tmntfruits\\tmntmeatproducts\\tmntfishproducts\\tmntsweetproducts\\tmntgoldprods\\tnumdealspurchases\\tnumwebpurchases\\tnumcatalogpurchases\\tnumstorepurchases\\tnumwebvisitsmonth\\tacceptedcmp3\\tacceptedcmp4\\tacceptedcmp5\\tacceptedcmp1\\tacceptedcmp2\\tcomplain\\tz_costcontact\\tz_revenue\\tresponse']\n"
     ]
    }
   ],
   "source": [
    "print(\"✅ Cleaned dataset saved as Customer Personality Analysis.csv\")\n",
    "print(\"🔹 Cleaned Shape:\", df.shape)\n",
    "print(\"🔹 Columns:\", df.columns.tolist())"
   ]
  },
  {
   "cell_type": "code",
   "execution_count": null,
   "id": "e0784d87-ae01-4d48-abe4-8d22707c8a37",
   "metadata": {},
   "outputs": [],
   "source": []
  }
 ],
 "metadata": {
  "kernelspec": {
   "display_name": "Python [conda env:base] *",
   "language": "python",
   "name": "conda-base-py"
  },
  "language_info": {
   "codemirror_mode": {
    "name": "ipython",
    "version": 3
   },
   "file_extension": ".py",
   "mimetype": "text/x-python",
   "name": "python",
   "nbconvert_exporter": "python",
   "pygments_lexer": "ipython3",
   "version": "3.13.5"
  }
 },
 "nbformat": 4,
 "nbformat_minor": 5
}
