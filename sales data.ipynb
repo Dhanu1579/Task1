{
 "cells": [
  {
   "cell_type": "code",
   "execution_count": 1,
   "id": "9d9bc931-833d-4c7e-a915-80c52bead6e6",
   "metadata": {},
   "outputs": [],
   "source": [
    "import pandas as pd"
   ]
  },
  {
   "cell_type": "code",
   "execution_count": 2,
   "id": "a123011e-fbe8-4777-9b3f-a4f8df980719",
   "metadata": {},
   "outputs": [],
   "source": [
    "df = pd.read_csv('/Users/dhanushsiddharthapinjerla/Desktop/datasets/Sales.csv')"
   ]
  },
  {
   "cell_type": "code",
   "execution_count": 3,
   "id": "8591a32f-5caa-4305-92d2-0b370b77c796",
   "metadata": {},
   "outputs": [],
   "source": [
    "df.columns = df.columns.str.strip().str.lower().str.replace(' ', '_')\n"
   ]
  },
  {
   "cell_type": "code",
   "execution_count": 4,
   "id": "2032772b-6784-4bcd-8673-979a94443a6a",
   "metadata": {},
   "outputs": [
    {
     "name": "stdout",
     "output_type": "stream",
     "text": [
      "Missing values in each column:\n",
      " year                0\n",
      "make            10301\n",
      "model           10399\n",
      "trim            10651\n",
      "body            13195\n",
      "transmission    65352\n",
      "vin                 4\n",
      "state               0\n",
      "condition       11820\n",
      "odometer           94\n",
      "color             749\n",
      "interior          749\n",
      "seller              0\n",
      "mmr                38\n",
      "sellingprice       12\n",
      "saledate           12\n",
      "dtype: int64\n"
     ]
    }
   ],
   "source": [
    "missing_data = df.isnull().sum()\n",
    "print(\"Missing values in each column:\\n\", missing_data)\n"
   ]
  },
  {
   "cell_type": "code",
   "execution_count": 5,
   "id": "8c8ae173-040a-40e8-93f0-8d807077e806",
   "metadata": {},
   "outputs": [],
   "source": [
    "df = df.dropna()"
   ]
  },
  {
   "cell_type": "code",
   "execution_count": 6,
   "id": "8808fcdb-5408-4cee-be07-6949b7f45993",
   "metadata": {},
   "outputs": [],
   "source": [
    "df = df.drop_duplicates()"
   ]
  },
  {
   "cell_type": "code",
   "execution_count": 9,
   "id": "92d47f4e-448f-4508-8ef0-7f4fe29f7470",
   "metadata": {},
   "outputs": [],
   "source": [
    "df['make'] = df['make'].str.strip().str.title()"
   ]
  },
  {
   "cell_type": "code",
   "execution_count": 10,
   "id": "dbaedbd2-f908-4b17-9d89-d917b3f6ecfc",
   "metadata": {},
   "outputs": [],
   "source": [
    "df['model'] = df['model'].str.strip().str.title()"
   ]
  },
  {
   "cell_type": "code",
   "execution_count": 11,
   "id": "2230f6c8-7ddd-474c-89a0-9e5e872e934a",
   "metadata": {},
   "outputs": [],
   "source": [
    "df['color'] = df['color'].str.strip().str.title()"
   ]
  },
  {
   "cell_type": "code",
   "execution_count": 13,
   "id": "8e74cee6-0a57-41de-b58d-b8557e568b67",
   "metadata": {},
   "outputs": [],
   "source": [
    "df['state'] = df['state'].str.strip().str.title()"
   ]
  },
  {
   "cell_type": "code",
   "execution_count": 16,
   "id": "cad54c7a-7216-42b0-88b6-2b827053da3c",
   "metadata": {},
   "outputs": [],
   "source": [
    "df['saledate'] = pd.to_datetime(df['saledate'], errors='coerce')\n",
    "df['saledate'] = df['saledate'].dt.strftime('%d-%m-%Y')\n"
   ]
  },
  {
   "cell_type": "code",
   "execution_count": 17,
   "id": "e865d0d3-94e2-482d-8929-c7fbc33563d5",
   "metadata": {},
   "outputs": [],
   "source": [
    "df['sellingprice'] = pd.to_numeric(df['sellingprice'], errors='coerce').fillna(0)"
   ]
  },
  {
   "cell_type": "code",
   "execution_count": 18,
   "id": "e50a292c-459c-47a2-9c44-9a99811753cb",
   "metadata": {},
   "outputs": [],
   "source": [
    "df['condition'] = pd.to_numeric(df['condition'], errors='coerce').fillna(0).astype(int)\n"
   ]
  },
  {
   "cell_type": "code",
   "execution_count": 19,
   "id": "205904e5-22db-4da6-bd92-35b5821eb142",
   "metadata": {},
   "outputs": [],
   "source": [
    "df['body'] = df['body'].str.strip().str.title()"
   ]
  },
  {
   "cell_type": "code",
   "execution_count": 20,
   "id": "9565ca8b-4fd3-46fd-9ea4-f35e29e83d3e",
   "metadata": {},
   "outputs": [],
   "source": [
    "df['trim'] = df['trim'].str.strip().str.title()"
   ]
  },
  {
   "cell_type": "code",
   "execution_count": 23,
   "id": "f2c91d41-3276-46b1-886e-233bba995fbc",
   "metadata": {},
   "outputs": [],
   "source": [
    "\n",
    "df['transmission'] = df['transmission'].str.strip().str.title()"
   ]
  },
  {
   "cell_type": "code",
   "execution_count": 24,
   "id": "9c638e0f-6666-4c75-abcd-81cdacbfedb5",
   "metadata": {},
   "outputs": [],
   "source": [
    "df['seller'] = df['seller'].str.strip().str.title()"
   ]
  },
  {
   "cell_type": "code",
   "execution_count": 25,
   "id": "99f09292-296a-4b63-9dc3-ef849c029326",
   "metadata": {},
   "outputs": [],
   "source": [
    "df['mmr'] = pd.to_numeric(df['mmr'], errors='coerce').fillna(0)"
   ]
  },
  {
   "cell_type": "code",
   "execution_count": 26,
   "id": "f29de6a3-83c1-4ab5-aa4c-839c0b4ab849",
   "metadata": {},
   "outputs": [
    {
     "name": "stdout",
     "output_type": "stream",
     "text": [
      "   year   make                model        trim   body transmission  \\\n",
      "0  2015    Kia              Sorento          Lx    Suv    Automatic   \n",
      "1  2015    Kia              Sorento          Lx    Suv    Automatic   \n",
      "2  2014    Bmw             3 Series  328I Sulev  Sedan    Automatic   \n",
      "3  2015  Volvo                  S60          T5  Sedan    Automatic   \n",
      "4  2014    Bmw  6 Series Gran Coupe        650I  Sedan    Automatic   \n",
      "\n",
      "                 vin state  condition  odometer  color interior  \\\n",
      "0  5xyktca69fg566472    Ca          5   16639.0  White    black   \n",
      "1  5xyktca69fg561319    Ca          5    9393.0  White    beige   \n",
      "2  wba3c1c51ek116351    Ca         45    1331.0   Gray    black   \n",
      "3  yv1612tb4f1310987    Ca         41   14282.0  White    black   \n",
      "4  wba6b2c57ed129731    Ca         43    2641.0   Gray    black   \n",
      "\n",
      "                                   seller      mmr  sellingprice    saledate  \n",
      "0                 Kia Motors America  Inc  20500.0       21500.0  16-12-2014  \n",
      "1                 Kia Motors America  Inc  20800.0       21500.0  16-12-2014  \n",
      "2  Financial Services Remarketing (Lease)  31900.0       30000.0  15-01-2015  \n",
      "3                 Volvo Na Rep/World Omni  27500.0       27750.0  29-01-2015  \n",
      "4  Financial Services Remarketing (Lease)  66000.0       67000.0  18-12-2014  \n"
     ]
    }
   ],
   "source": [
    "print(df.head())"
   ]
  },
  {
   "cell_type": "code",
   "execution_count": 27,
   "id": "9eae2763-58cf-4bfe-84d9-8938f650f932",
   "metadata": {},
   "outputs": [],
   "source": [
    "df.to_csv('cleaned sales data.csv', index=False)"
   ]
  },
  {
   "cell_type": "code",
   "execution_count": null,
   "id": "a2df40e6-997f-4bc1-8f4e-094e33299828",
   "metadata": {},
   "outputs": [],
   "source": []
  }
 ],
 "metadata": {
  "kernelspec": {
   "display_name": "Python [conda env:base] *",
   "language": "python",
   "name": "conda-base-py"
  },
  "language_info": {
   "codemirror_mode": {
    "name": "ipython",
    "version": 3
   },
   "file_extension": ".py",
   "mimetype": "text/x-python",
   "name": "python",
   "nbconvert_exporter": "python",
   "pygments_lexer": "ipython3",
   "version": "3.13.5"
  }
 },
 "nbformat": 4,
 "nbformat_minor": 5
}
