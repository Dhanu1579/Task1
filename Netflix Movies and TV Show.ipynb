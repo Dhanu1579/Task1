{
 "cells": [
  {
   "cell_type": "code",
   "execution_count": 31,
   "id": "6d4a3f6f-d27d-4e4a-84bd-1d58261c7ec0",
   "metadata": {},
   "outputs": [],
   "source": [
    "import pandas as pd"
   ]
  },
  {
   "cell_type": "code",
   "execution_count": 32,
   "id": "6692f9e5-0379-47c3-908d-e3b454d817f5",
   "metadata": {},
   "outputs": [],
   "source": [
    "df = pd.read_csv('/Users/dhanushsiddharthapinjerla/Desktop/datasets/Netflix Movies and TV Show.csv')"
   ]
  },
  {
   "cell_type": "code",
   "execution_count": 33,
   "id": "925ab684-909b-4ab6-94b0-a5d899080e0f",
   "metadata": {},
   "outputs": [],
   "source": [
    "df.columns = df.columns.str.strip().str.lower().str.replace(' ', '_')"
   ]
  },
  {
   "cell_type": "code",
   "execution_count": 34,
   "id": "04a1b157-5689-41bd-940f-8cb2d03dc553",
   "metadata": {},
   "outputs": [
    {
     "name": "stdout",
     "output_type": "stream",
     "text": [
      "Missing values in each column:\n",
      " show_id            0\n",
      "type               0\n",
      "title              0\n",
      "director        2634\n",
      "cast             825\n",
      "country          831\n",
      "date_added        10\n",
      "release_year       0\n",
      "rating             4\n",
      "duration           3\n",
      "listed_in          0\n",
      "description        0\n",
      "dtype: int64\n"
     ]
    }
   ],
   "source": [
    "missing_data = df.isnull().sum()\n",
    "print(\"Missing values in each column:\\n\", missing_data)"
   ]
  },
  {
   "cell_type": "code",
   "execution_count": 35,
   "id": "68a29b35-36b5-4fd4-ac50-f1aac99661b3",
   "metadata": {},
   "outputs": [],
   "source": [
    "df = df.dropna()"
   ]
  },
  {
   "cell_type": "code",
   "execution_count": 36,
   "id": "68f2b3f2-101d-4e0e-a005-2572de236bb6",
   "metadata": {},
   "outputs": [],
   "source": [
    "df = df.drop_duplicates()"
   ]
  },
  {
   "cell_type": "code",
   "execution_count": 37,
   "id": "ec24e903-f300-47b8-ade7-a9656379dcc7",
   "metadata": {},
   "outputs": [],
   "source": [
    "df['rating'] = df['rating'].str.strip().str.upper().replace({\n",
    "    'tv-ma': 'TV-MA', 'tv-pg': 'TV-PG', 'tv-14': 'TV-14', 'tv-g': 'TV-G',\n",
    "    'tv-y': 'TV-Y', 'tv-y7': 'TV-Y7', 'r': 'R', 'pg-13': 'PG-13', 'pg': 'PG'\n",
    "})"
   ]
  },
  {
   "cell_type": "code",
   "execution_count": 38,
   "id": "a364b5d4-0e51-4680-90d7-8d7b4efa2f21",
   "metadata": {},
   "outputs": [],
   "source": [
    "df['country'] = df['country'].str.strip().str.title()\n"
   ]
  },
  {
   "cell_type": "code",
   "execution_count": 39,
   "id": "4939d7de-a590-4922-b9ee-1f6e3b6e112a",
   "metadata": {},
   "outputs": [],
   "source": [
    "df['date_added'] = pd.to_datetime(df['date_added'], errors='coerce').dt.strftime('%d-%m-%Y')"
   ]
  },
  {
   "cell_type": "code",
   "execution_count": 40,
   "id": "c8a94be9-fe69-4cfa-bde3-771e503d2d02",
   "metadata": {},
   "outputs": [],
   "source": [
    "df['release_year'] = pd.to_numeric(df['release_year'], errors='coerce').fillna(0).astype(int)\n"
   ]
  },
  {
   "cell_type": "code",
   "execution_count": 41,
   "id": "3088a020-43b6-448a-8a5b-f5b50edb556d",
   "metadata": {},
   "outputs": [
    {
     "name": "stdout",
     "output_type": "stream",
     "text": [
      "   show_id     type                          title             director  \\\n",
      "7       s8    Movie                        Sankofa         Haile Gerima   \n",
      "8       s9  TV Show  The Great British Baking Show      Andy Devonshire   \n",
      "9      s10    Movie                   The Starling       Theodore Melfi   \n",
      "12     s13    Movie                   Je Suis Karl  Christian Schwochow   \n",
      "24     s25    Movie                          Jeans           S. Shankar   \n",
      "\n",
      "                                                 cast  \\\n",
      "7   Kofi Ghanaba, Oyafunmike Ogunlano, Alexandra D...   \n",
      "8   Mel Giedroyc, Sue Perkins, Mary Berry, Paul Ho...   \n",
      "9   Melissa McCarthy, Chris O'Dowd, Kevin Kline, T...   \n",
      "12  Luna Wedler, Jannis Niewöhner, Milan Peschel, ...   \n",
      "24  Prashanth, Aishwarya Rai Bachchan, Sri Lakshmi...   \n",
      "\n",
      "                                              country  date_added  \\\n",
      "7   United States, Ghana, Burkina Faso, United Kin...  24-09-2021   \n",
      "8                                      United Kingdom  24-09-2021   \n",
      "9                                       United States  24-09-2021   \n",
      "12                            Germany, Czech Republic  23-09-2021   \n",
      "24                                              India  21-09-2021   \n",
      "\n",
      "    release_year rating   duration  \\\n",
      "7           1993  TV-MA    125 min   \n",
      "8           2021  TV-14  9 Seasons   \n",
      "9           2021  PG-13    104 min   \n",
      "12          2021  TV-MA    127 min   \n",
      "24          1998  TV-14    166 min   \n",
      "\n",
      "                                           listed_in  \\\n",
      "7   Dramas, Independent Movies, International Movies   \n",
      "8                       British TV Shows, Reality TV   \n",
      "9                                   Comedies, Dramas   \n",
      "12                      Dramas, International Movies   \n",
      "24   Comedies, International Movies, Romantic Movies   \n",
      "\n",
      "                                          description  \n",
      "7   On a photo shoot in Ghana, an American model s...  \n",
      "8   A talented batch of amateur bakers face off in...  \n",
      "9   A woman adjusting to life after a loss contend...  \n",
      "12  After most of her family is murdered in a terr...  \n",
      "24  When the father of the man she loves insists t...  \n"
     ]
    }
   ],
   "source": [
    "print(df.head())"
   ]
  },
  {
   "cell_type": "code",
   "execution_count": 42,
   "id": "0483e875-481a-4842-8dfc-ba0a82a44146",
   "metadata": {},
   "outputs": [],
   "source": [
    "df.to_csv('cleaned Netflix Movies and TV Show.csv', index=False)"
   ]
  },
  {
   "cell_type": "code",
   "execution_count": null,
   "id": "3e6bc57b-2afe-4de0-97e1-2dc2b42011b0",
   "metadata": {},
   "outputs": [],
   "source": []
  }
 ],
 "metadata": {
  "kernelspec": {
   "display_name": "Python [conda env:base] *",
   "language": "python",
   "name": "conda-base-py"
  },
  "language_info": {
   "codemirror_mode": {
    "name": "ipython",
    "version": 3
   },
   "file_extension": ".py",
   "mimetype": "text/x-python",
   "name": "python",
   "nbconvert_exporter": "python",
   "pygments_lexer": "ipython3",
   "version": "3.13.5"
  }
 },
 "nbformat": 4,
 "nbformat_minor": 5
}
